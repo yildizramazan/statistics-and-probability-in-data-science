{
 "cells": [
  {
   "cell_type": "code",
   "id": "initial_id",
   "metadata": {
    "collapsed": true,
    "ExecuteTime": {
     "end_time": "2025-08-12T19:02:53.758764Z",
     "start_time": "2025-08-12T19:02:53.756299Z"
    }
   },
   "source": [
    "import numpy as np\n",
    "import pandas as pd"
   ],
   "outputs": [],
   "execution_count": 5
  },
  {
   "metadata": {
    "ExecuteTime": {
     "end_time": "2025-08-12T19:02:53.786400Z",
     "start_time": "2025-08-12T19:02:53.779955Z"
    }
   },
   "cell_type": "code",
   "source": "aqi = pd.read_csv(\"../datasets/c4_epa_air_quality.csv\")",
   "id": "2793cf539d7bf111",
   "outputs": [],
   "execution_count": 6
  },
  {
   "metadata": {
    "ExecuteTime": {
     "end_time": "2025-08-12T19:02:53.813624Z",
     "start_time": "2025-08-12T19:02:53.797308Z"
    }
   },
   "cell_type": "code",
   "source": "aqi.describe(include='all')",
   "id": "3492f9fd6a06a13b",
   "outputs": [
    {
     "data": {
      "text/plain": [
       "        Unnamed: 0  date_local  state_name  county_name      city_name  \\\n",
       "count   260.000000         260         260          260            260   \n",
       "unique         NaN           1          52          149            190   \n",
       "top            NaN  2018-01-01  California  Los Angeles  Not in a city   \n",
       "freq           NaN         260          66           14             21   \n",
       "mean    129.500000         NaN         NaN          NaN            NaN   \n",
       "std      75.199734         NaN         NaN          NaN            NaN   \n",
       "min       0.000000         NaN         NaN          NaN            NaN   \n",
       "25%      64.750000         NaN         NaN          NaN            NaN   \n",
       "50%     129.500000         NaN         NaN          NaN            NaN   \n",
       "75%     194.250000         NaN         NaN          NaN            NaN   \n",
       "max     259.000000         NaN         NaN          NaN            NaN   \n",
       "\n",
       "       local_site_name   parameter_name   units_of_measure  arithmetic_mean  \\\n",
       "count              257              260                260       260.000000   \n",
       "unique             253                1                  1              NaN   \n",
       "top            Kapolei  Carbon monoxide  Parts per million              NaN   \n",
       "freq                 2              260                260              NaN   \n",
       "mean               NaN              NaN                NaN         0.403169   \n",
       "std                NaN              NaN                NaN         0.317902   \n",
       "min                NaN              NaN                NaN         0.000000   \n",
       "25%                NaN              NaN                NaN         0.200000   \n",
       "50%                NaN              NaN                NaN         0.276315   \n",
       "75%                NaN              NaN                NaN         0.516009   \n",
       "max                NaN              NaN                NaN         1.921053   \n",
       "\n",
       "               aqi  \n",
       "count   260.000000  \n",
       "unique         NaN  \n",
       "top            NaN  \n",
       "freq           NaN  \n",
       "mean      6.757692  \n",
       "std       7.061707  \n",
       "min       0.000000  \n",
       "25%       2.000000  \n",
       "50%       5.000000  \n",
       "75%       9.000000  \n",
       "max      50.000000  "
      ],
      "text/html": [
       "<div>\n",
       "<style scoped>\n",
       "    .dataframe tbody tr th:only-of-type {\n",
       "        vertical-align: middle;\n",
       "    }\n",
       "\n",
       "    .dataframe tbody tr th {\n",
       "        vertical-align: top;\n",
       "    }\n",
       "\n",
       "    .dataframe thead th {\n",
       "        text-align: right;\n",
       "    }\n",
       "</style>\n",
       "<table border=\"1\" class=\"dataframe\">\n",
       "  <thead>\n",
       "    <tr style=\"text-align: right;\">\n",
       "      <th></th>\n",
       "      <th>Unnamed: 0</th>\n",
       "      <th>date_local</th>\n",
       "      <th>state_name</th>\n",
       "      <th>county_name</th>\n",
       "      <th>city_name</th>\n",
       "      <th>local_site_name</th>\n",
       "      <th>parameter_name</th>\n",
       "      <th>units_of_measure</th>\n",
       "      <th>arithmetic_mean</th>\n",
       "      <th>aqi</th>\n",
       "    </tr>\n",
       "  </thead>\n",
       "  <tbody>\n",
       "    <tr>\n",
       "      <th>count</th>\n",
       "      <td>260.000000</td>\n",
       "      <td>260</td>\n",
       "      <td>260</td>\n",
       "      <td>260</td>\n",
       "      <td>260</td>\n",
       "      <td>257</td>\n",
       "      <td>260</td>\n",
       "      <td>260</td>\n",
       "      <td>260.000000</td>\n",
       "      <td>260.000000</td>\n",
       "    </tr>\n",
       "    <tr>\n",
       "      <th>unique</th>\n",
       "      <td>NaN</td>\n",
       "      <td>1</td>\n",
       "      <td>52</td>\n",
       "      <td>149</td>\n",
       "      <td>190</td>\n",
       "      <td>253</td>\n",
       "      <td>1</td>\n",
       "      <td>1</td>\n",
       "      <td>NaN</td>\n",
       "      <td>NaN</td>\n",
       "    </tr>\n",
       "    <tr>\n",
       "      <th>top</th>\n",
       "      <td>NaN</td>\n",
       "      <td>2018-01-01</td>\n",
       "      <td>California</td>\n",
       "      <td>Los Angeles</td>\n",
       "      <td>Not in a city</td>\n",
       "      <td>Kapolei</td>\n",
       "      <td>Carbon monoxide</td>\n",
       "      <td>Parts per million</td>\n",
       "      <td>NaN</td>\n",
       "      <td>NaN</td>\n",
       "    </tr>\n",
       "    <tr>\n",
       "      <th>freq</th>\n",
       "      <td>NaN</td>\n",
       "      <td>260</td>\n",
       "      <td>66</td>\n",
       "      <td>14</td>\n",
       "      <td>21</td>\n",
       "      <td>2</td>\n",
       "      <td>260</td>\n",
       "      <td>260</td>\n",
       "      <td>NaN</td>\n",
       "      <td>NaN</td>\n",
       "    </tr>\n",
       "    <tr>\n",
       "      <th>mean</th>\n",
       "      <td>129.500000</td>\n",
       "      <td>NaN</td>\n",
       "      <td>NaN</td>\n",
       "      <td>NaN</td>\n",
       "      <td>NaN</td>\n",
       "      <td>NaN</td>\n",
       "      <td>NaN</td>\n",
       "      <td>NaN</td>\n",
       "      <td>0.403169</td>\n",
       "      <td>6.757692</td>\n",
       "    </tr>\n",
       "    <tr>\n",
       "      <th>std</th>\n",
       "      <td>75.199734</td>\n",
       "      <td>NaN</td>\n",
       "      <td>NaN</td>\n",
       "      <td>NaN</td>\n",
       "      <td>NaN</td>\n",
       "      <td>NaN</td>\n",
       "      <td>NaN</td>\n",
       "      <td>NaN</td>\n",
       "      <td>0.317902</td>\n",
       "      <td>7.061707</td>\n",
       "    </tr>\n",
       "    <tr>\n",
       "      <th>min</th>\n",
       "      <td>0.000000</td>\n",
       "      <td>NaN</td>\n",
       "      <td>NaN</td>\n",
       "      <td>NaN</td>\n",
       "      <td>NaN</td>\n",
       "      <td>NaN</td>\n",
       "      <td>NaN</td>\n",
       "      <td>NaN</td>\n",
       "      <td>0.000000</td>\n",
       "      <td>0.000000</td>\n",
       "    </tr>\n",
       "    <tr>\n",
       "      <th>25%</th>\n",
       "      <td>64.750000</td>\n",
       "      <td>NaN</td>\n",
       "      <td>NaN</td>\n",
       "      <td>NaN</td>\n",
       "      <td>NaN</td>\n",
       "      <td>NaN</td>\n",
       "      <td>NaN</td>\n",
       "      <td>NaN</td>\n",
       "      <td>0.200000</td>\n",
       "      <td>2.000000</td>\n",
       "    </tr>\n",
       "    <tr>\n",
       "      <th>50%</th>\n",
       "      <td>129.500000</td>\n",
       "      <td>NaN</td>\n",
       "      <td>NaN</td>\n",
       "      <td>NaN</td>\n",
       "      <td>NaN</td>\n",
       "      <td>NaN</td>\n",
       "      <td>NaN</td>\n",
       "      <td>NaN</td>\n",
       "      <td>0.276315</td>\n",
       "      <td>5.000000</td>\n",
       "    </tr>\n",
       "    <tr>\n",
       "      <th>75%</th>\n",
       "      <td>194.250000</td>\n",
       "      <td>NaN</td>\n",
       "      <td>NaN</td>\n",
       "      <td>NaN</td>\n",
       "      <td>NaN</td>\n",
       "      <td>NaN</td>\n",
       "      <td>NaN</td>\n",
       "      <td>NaN</td>\n",
       "      <td>0.516009</td>\n",
       "      <td>9.000000</td>\n",
       "    </tr>\n",
       "    <tr>\n",
       "      <th>max</th>\n",
       "      <td>259.000000</td>\n",
       "      <td>NaN</td>\n",
       "      <td>NaN</td>\n",
       "      <td>NaN</td>\n",
       "      <td>NaN</td>\n",
       "      <td>NaN</td>\n",
       "      <td>NaN</td>\n",
       "      <td>NaN</td>\n",
       "      <td>1.921053</td>\n",
       "      <td>50.000000</td>\n",
       "    </tr>\n",
       "  </tbody>\n",
       "</table>\n",
       "</div>"
      ]
     },
     "execution_count": 7,
     "metadata": {},
     "output_type": "execute_result"
    }
   ],
   "execution_count": 7
  },
  {
   "metadata": {
    "ExecuteTime": {
     "end_time": "2025-08-12T19:04:28.489172Z",
     "start_time": "2025-08-12T19:04:28.481173Z"
    }
   },
   "cell_type": "code",
   "source": [
    "rre_states = ['California','Florida','Michigan','Ohio','Pennsylvania','Texas']\n",
    "aqi_rre = aqi[aqi[\"state_name\"].isin(rre_states)]\n",
    "aqi_rre.groupby('state_name').agg({\"aqi\":\"mean\",\"state_name\":\"count\"})"
   ],
   "id": "a835597a87cd11a9",
   "outputs": [
    {
     "data": {
      "text/plain": [
       "                    aqi  state_name\n",
       "state_name                         \n",
       "California    12.121212          66\n",
       "Florida        5.500000          12\n",
       "Michigan       8.111111           9\n",
       "Ohio           3.333333          12\n",
       "Pennsylvania   2.900000          10\n",
       "Texas          2.700000          10"
      ],
      "text/html": [
       "<div>\n",
       "<style scoped>\n",
       "    .dataframe tbody tr th:only-of-type {\n",
       "        vertical-align: middle;\n",
       "    }\n",
       "\n",
       "    .dataframe tbody tr th {\n",
       "        vertical-align: top;\n",
       "    }\n",
       "\n",
       "    .dataframe thead th {\n",
       "        text-align: right;\n",
       "    }\n",
       "</style>\n",
       "<table border=\"1\" class=\"dataframe\">\n",
       "  <thead>\n",
       "    <tr style=\"text-align: right;\">\n",
       "      <th></th>\n",
       "      <th>aqi</th>\n",
       "      <th>state_name</th>\n",
       "    </tr>\n",
       "    <tr>\n",
       "      <th>state_name</th>\n",
       "      <th></th>\n",
       "      <th></th>\n",
       "    </tr>\n",
       "  </thead>\n",
       "  <tbody>\n",
       "    <tr>\n",
       "      <th>California</th>\n",
       "      <td>12.121212</td>\n",
       "      <td>66</td>\n",
       "    </tr>\n",
       "    <tr>\n",
       "      <th>Florida</th>\n",
       "      <td>5.500000</td>\n",
       "      <td>12</td>\n",
       "    </tr>\n",
       "    <tr>\n",
       "      <th>Michigan</th>\n",
       "      <td>8.111111</td>\n",
       "      <td>9</td>\n",
       "    </tr>\n",
       "    <tr>\n",
       "      <th>Ohio</th>\n",
       "      <td>3.333333</td>\n",
       "      <td>12</td>\n",
       "    </tr>\n",
       "    <tr>\n",
       "      <th>Pennsylvania</th>\n",
       "      <td>2.900000</td>\n",
       "      <td>10</td>\n",
       "    </tr>\n",
       "    <tr>\n",
       "      <th>Texas</th>\n",
       "      <td>2.700000</td>\n",
       "      <td>10</td>\n",
       "    </tr>\n",
       "  </tbody>\n",
       "</table>\n",
       "</div>"
      ]
     },
     "execution_count": 12,
     "metadata": {},
     "output_type": "execute_result"
    }
   ],
   "execution_count": 12
  },
  {
   "metadata": {
    "ExecuteTime": {
     "end_time": "2025-08-12T20:30:12.896648Z",
     "start_time": "2025-08-12T20:30:12.794906Z"
    }
   },
   "cell_type": "code",
   "source": [
    "import seaborn as sns\n",
    "import matplotlib.pyplot as plt\n",
    "plt.figure(figsize=(7,4))\n",
    "sns.boxplot(x=\"state_name\", y=\"aqi\", data=aqi_rre);"
   ],
   "id": "d78694eca3089340",
   "outputs": [
    {
     "data": {
      "text/plain": [
       "<Figure size 700x400 with 1 Axes>"
      ],
      "image/png": "[encoded data removed]"
     },
     "metadata": {},
     "output_type": "display_data"
    }
   ],
   "execution_count": 19
  },
  {
   "metadata": {},
   "cell_type": "markdown",
   "source": "the highest mean for aqi is california's.",
   "id": "4b01e766741a0d24"
  },
  {
   "metadata": {
    "ExecuteTime": {
     "end_time": "2025-08-12T20:39:43.812646Z",
     "start_time": "2025-08-12T20:39:43.800261Z"
    }
   },
   "cell_type": "code",
   "source": [
    "aqi_ca = aqi[aqi[\"state_name\"] == \"California\"]\n",
    "sample_mean = aqi_ca[\"aqi\"].mean()\n",
    "sample_std = aqi_ca[\"aqi\"].std()\n",
    "sample_std_err = sample_std / np.sqrt(len(aqi_ca))"
   ],
   "id": "6905542e2ff1d70",
   "outputs": [],
   "execution_count": 23
  },
  {
   "metadata": {
    "ExecuteTime": {
     "end_time": "2025-08-12T20:44:29.439565Z",
     "start_time": "2025-08-12T20:44:29.428485Z"
    }
   },
   "cell_type": "code",
   "source": [
    "#confidence interval for confidence level %95\n",
    "conf_lvl = 0.95\n",
    "#z-score for 95% is approximately 1.95\n",
    "z_score = 1.96\n",
    "margin_of_error = sample_std_err * z_score\n",
    "margin_of_error"
   ],
   "id": "4a9159cb84aa8b6a",
   "outputs": [
    {
     "data": {
      "text/plain": [
       "np.float64(1.7614930896609726)"
      ]
     },
     "execution_count": 24,
     "metadata": {},
     "output_type": "execute_result"
    }
   ],
   "execution_count": 24
  },
  {
   "metadata": {
    "ExecuteTime": {
     "end_time": "2025-08-12T20:45:07.675198Z",
     "start_time": "2025-08-12T20:45:07.661356Z"
    }
   },
   "cell_type": "code",
   "source": [
    "upper_limit = sample_mean + margin_of_error\n",
    "lower_limit = sample_mean - margin_of_error\n",
    "print(upper_limit, lower_limit)"
   ],
   "id": "45574c4530c9227b",
   "outputs": [
    {
     "name": "stdout",
     "output_type": "stream",
     "text": [
      "13.882705210873095 10.359719031551148\n"
     ]
    }
   ],
   "execution_count": 25
  },
  {
   "metadata": {
    "ExecuteTime": {
     "end_time": "2025-08-12T20:47:48.310907Z",
     "start_time": "2025-08-12T20:47:48.299720Z"
    }
   },
   "cell_type": "code",
   "source": [
    "#alternatively i could have just use scipy.stats.norm.interval()\n",
    "from scipy import stats\n",
    "confidence_interval = stats.norm.interval(confidence=conf_lvl, loc=sample_mean, scale=sample_std_err)\n",
    "confidence_interval"
   ],
   "id": "ac216bbffefb96e9",
   "outputs": [
    {
     "data": {
      "text/plain": [
       "(np.float64(10.359751399400034), np.float64(13.882672843024208))"
      ]
     },
     "execution_count": 27,
     "metadata": {},
     "output_type": "execute_result"
    }
   ],
   "execution_count": 27
  }
 ],
 "metadata": {
  "kernelspec": {
   "display_name": "Python 3",
   "language": "python",
   "name": "python3"
  },
  "language_info": {
   "codemirror_mode": {
    "name": "ipython",
    "version": 2
   },
   "file_extension": ".py",
   "mimetype": "text/x-python",
   "name": "python",
   "nbconvert_exporter": "python",
   "pygments_lexer": "ipython2",
   "version": "2.7.6"
  }
 },
 "nbformat": 4,
 "nbformat_minor": 5
}
