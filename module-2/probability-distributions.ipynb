{
 "cells": [
  {
   "metadata": {
    "ExecuteTime": {
     "end_time": "2025-08-09T20:42:38.729295Z",
     "start_time": "2025-08-09T20:42:38.722822Z"
    }
   },
   "cell_type": "code",
   "source": [
    "import numpy as np\n",
    "import pandas as pd\n",
    "import matplotlib.pyplot as plt\n",
    "import scipy as stats\n",
    "import scipy.stats as scipy_stats"
   ],
   "id": "f48258de4723c02b",
   "outputs": [],
   "execution_count": 18
  },
  {
   "metadata": {
    "ExecuteTime": {
     "end_time": "2025-08-09T20:32:18.853603Z",
     "start_time": "2025-08-09T20:32:18.829317Z"
    }
   },
   "cell_type": "code",
   "source": [
    "education_districtwise = pd.read_csv('../datasets/education_districtwise.csv')\n",
    "education_districtwise = education_districtwise.dropna()"
   ],
   "id": "e6e9dac791aacafc",
   "outputs": [],
   "execution_count": 4
  },
  {
   "metadata": {
    "ExecuteTime": {
     "end_time": "2025-08-09T20:32:51.513232Z",
     "start_time": "2025-08-09T20:32:50.439932Z"
    }
   },
   "cell_type": "code",
   "source": "education_districtwise['OVERALL_LI'].hist()",
   "id": "fa1f4ef5ff92388d",
   "outputs": [
    {
     "data": {
      "text/plain": [
       "<Axes: >"
      ]
     },
     "execution_count": 5,
     "metadata": {},
     "output_type": "execute_result"
    },
    {
     "data": {
      "text/plain": [
       "<Figure size 640x480 with 1 Axes>"
      ],
      "image/png": "[encoded data removed]"
     },
     "metadata": {},
     "output_type": "display_data"
    }
   ],
   "execution_count": 5
  },
  {
   "metadata": {
    "ExecuteTime": {
     "end_time": "2025-08-09T20:33:34.224720Z",
     "start_time": "2025-08-09T20:33:34.211968Z"
    }
   },
   "cell_type": "code",
   "source": [
    "mean_overall_li = education_districtwise['OVERALL_LI'].mean()\n",
    "mean_overall_li"
   ],
   "id": "58623e41b1fdd345",
   "outputs": [
    {
     "data": {
      "text/plain": [
       "np.float64(73.39518927444796)"
      ]
     },
     "execution_count": 6,
     "metadata": {},
     "output_type": "execute_result"
    }
   ],
   "execution_count": 6
  },
  {
   "metadata": {
    "ExecuteTime": {
     "end_time": "2025-08-09T20:33:52.832508Z",
     "start_time": "2025-08-09T20:33:52.824352Z"
    }
   },
   "cell_type": "code",
   "source": [
    "std_overall_li = education_districtwise['OVERALL_LI'].std()\n",
    "std_overall_li"
   ],
   "id": "d1082511fde26292",
   "outputs": [
    {
     "data": {
      "text/plain": [
       "np.float64(10.098460413782467)"
      ]
     },
     "execution_count": 7,
     "metadata": {},
     "output_type": "execute_result"
    }
   ],
   "execution_count": 7
  },
  {
   "metadata": {
    "ExecuteTime": {
     "end_time": "2025-08-09T20:37:12.575379Z",
     "start_time": "2025-08-09T20:37:12.557397Z"
    }
   },
   "cell_type": "code",
   "source": [
    "lower_limit = mean_overall_li - 1 * std_overall_li\n",
    "upper_limit = mean_overall_li + 1 * std_overall_li\n",
    "((education_districtwise['OVERALL_LI'] >= lower_limit) & (education_districtwise['OVERALL_LI'] <= upper_limit)).mean()"
   ],
   "id": "175bed0e7d248a5f",
   "outputs": [
    {
     "data": {
      "text/plain": [
       "np.float64(0.6640378548895899)"
      ]
     },
     "execution_count": 8,
     "metadata": {},
     "output_type": "execute_result"
    }
   ],
   "execution_count": 8
  },
  {
   "metadata": {
    "ExecuteTime": {
     "end_time": "2025-08-09T20:37:46.778617Z",
     "start_time": "2025-08-09T20:37:46.765376Z"
    }
   },
   "cell_type": "code",
   "source": [
    "lower_limit = mean_overall_li - 2 * std_overall_li\n",
    "upper_limit = mean_overall_li + 2 * std_overall_li\n",
    "((education_districtwise['OVERALL_LI'] >= lower_limit) & (education_districtwise['OVERALL_LI'] <= upper_limit)).mean()"
   ],
   "id": "58de720ca75ea9eb",
   "outputs": [
    {
     "data": {
      "text/plain": [
       "np.float64(0.9542586750788643)"
      ]
     },
     "execution_count": 9,
     "metadata": {},
     "output_type": "execute_result"
    }
   ],
   "execution_count": 9
  },
  {
   "metadata": {
    "ExecuteTime": {
     "end_time": "2025-08-09T20:38:10.598480Z",
     "start_time": "2025-08-09T20:38:10.592550Z"
    }
   },
   "cell_type": "code",
   "source": [
    "lower_limit = mean_overall_li - 3* std_overall_li\n",
    "upper_limit = mean_overall_li + 3 * std_overall_li\n",
    "((education_districtwise['OVERALL_LI'] >= lower_limit) & (education_districtwise['OVERALL_LI'] <= upper_limit)).mean()"
   ],
   "id": "ad17f34727c9508f",
   "outputs": [
    {
     "data": {
      "text/plain": [
       "np.float64(0.9968454258675079)"
      ]
     },
     "execution_count": 11,
     "metadata": {},
     "output_type": "execute_result"
    }
   ],
   "execution_count": 11
  },
  {
   "metadata": {},
   "cell_type": "markdown",
   "source": "our values of 66.4%, 95.4%, and 99.6% are very close to the values the empirical rule suggests: roughly 68%, 95%, and 99.7%.",
   "id": "1f004644f6c881e3"
  },
  {
   "metadata": {},
   "cell_type": "markdown",
   "source": "##### computing z-scores to find outliers",
   "id": "2738679fab4c7a05"
  },
  {
   "metadata": {
    "ExecuteTime": {
     "end_time": "2025-08-09T20:42:53.980544Z",
     "start_time": "2025-08-09T20:42:53.955140Z"
    }
   },
   "cell_type": "code",
   "source": [
    "education_districtwise['Z_SCORE'] = scipy_stats.zscore(education_districtwise['OVERALL_LI'])\n",
    "education_districtwise"
   ],
   "id": "ae3a9befe3851134",
   "outputs": [
    {
     "data": {
      "text/plain": [
       "        DISTNAME STATNAME  BLOCKS  VILLAGES  CLUSTERS  TOTPOPULAT  OVERALL_LI  \\\n",
       "0     DISTRICT32   STATE1      13       391       104    875564.0       66.92   \n",
       "1    DISTRICT649   STATE1      18       678       144   1015503.0       66.93   \n",
       "2    DISTRICT229   STATE1       8        94        65   1269751.0       71.21   \n",
       "3    DISTRICT259   STATE1      13       523       104    735753.0       57.98   \n",
       "4    DISTRICT486   STATE1       8       359        64    570060.0       65.00   \n",
       "..           ...      ...     ...       ...       ...         ...         ...   \n",
       "675  DISTRICT522  STATE29      37       876       137   5296396.0       78.05   \n",
       "676  DISTRICT498  STATE29      64      1458       230   4042191.0       56.06   \n",
       "677  DISTRICT343  STATE29      59      1117       216   3483648.0       65.05   \n",
       "678  DISTRICT130  STATE29      51       993       211   3522644.0       66.16   \n",
       "679  DISTRICT341  STATE29      41       783       185   2798214.0       65.46   \n",
       "\n",
       "      Z_SCORE  \n",
       "0   -0.641712  \n",
       "1   -0.640721  \n",
       "2   -0.216559  \n",
       "3   -1.527694  \n",
       "4   -0.831990  \n",
       "..        ...  \n",
       "675  0.461307  \n",
       "676 -1.717972  \n",
       "677 -0.827035  \n",
       "678 -0.717030  \n",
       "679 -0.786403  \n",
       "\n",
       "[634 rows x 8 columns]"
      ],
      "text/html": [
       "<div>\n",
       "<style scoped>\n",
       "    .dataframe tbody tr th:only-of-type {\n",
       "        vertical-align: middle;\n",
       "    }\n",
       "\n",
       "    .dataframe tbody tr th {\n",
       "        vertical-align: top;\n",
       "    }\n",
       "\n",
       "    .dataframe thead th {\n",
       "        text-align: right;\n",
       "    }\n",
       "</style>\n",
       "<table border=\"1\" class=\"dataframe\">\n",
       "  <thead>\n",
       "    <tr style=\"text-align: right;\">\n",
       "      <th></th>\n",
       "      <th>DISTNAME</th>\n",
       "      <th>STATNAME</th>\n",
       "      <th>BLOCKS</th>\n",
       "      <th>VILLAGES</th>\n",
       "      <th>CLUSTERS</th>\n",
       "      <th>TOTPOPULAT</th>\n",
       "      <th>OVERALL_LI</th>\n",
       "      <th>Z_SCORE</th>\n",
       "    </tr>\n",
       "  </thead>\n",
       "  <tbody>\n",
       "    <tr>\n",
       "      <th>0</th>\n",
       "      <td>DISTRICT32</td>\n",
       "      <td>STATE1</td>\n",
       "      <td>13</td>\n",
       "      <td>391</td>\n",
       "      <td>104</td>\n",
       "      <td>875564.0</td>\n",
       "      <td>66.92</td>\n",
       "      <td>-0.641712</td>\n",
       "    </tr>\n",
       "    <tr>\n",
       "      <th>1</th>\n",
       "      <td>DISTRICT649</td>\n",
       "      <td>STATE1</td>\n",
       "      <td>18</td>\n",
       "      <td>678</td>\n",
       "      <td>144</td>\n",
       "      <td>1015503.0</td>\n",
       "      <td>66.93</td>\n",
       "      <td>-0.640721</td>\n",
       "    </tr>\n",
       "    <tr>\n",
       "      <th>2</th>\n",
       "      <td>DISTRICT229</td>\n",
       "      <td>STATE1</td>\n",
       "      <td>8</td>\n",
       "      <td>94</td>\n",
       "      <td>65</td>\n",
       "      <td>1269751.0</td>\n",
       "      <td>71.21</td>\n",
       "      <td>-0.216559</td>\n",
       "    </tr>\n",
       "    <tr>\n",
       "      <th>3</th>\n",
       "      <td>DISTRICT259</td>\n",
       "      <td>STATE1</td>\n",
       "      <td>13</td>\n",
       "      <td>523</td>\n",
       "      <td>104</td>\n",
       "      <td>735753.0</td>\n",
       "      <td>57.98</td>\n",
       "      <td>-1.527694</td>\n",
       "    </tr>\n",
       "    <tr>\n",
       "      <th>4</th>\n",
       "      <td>DISTRICT486</td>\n",
       "      <td>STATE1</td>\n",
       "      <td>8</td>\n",
       "      <td>359</td>\n",
       "      <td>64</td>\n",
       "      <td>570060.0</td>\n",
       "      <td>65.00</td>\n",
       "      <td>-0.831990</td>\n",
       "    </tr>\n",
       "    <tr>\n",
       "      <th>...</th>\n",
       "      <td>...</td>\n",
       "      <td>...</td>\n",
       "      <td>...</td>\n",
       "      <td>...</td>\n",
       "      <td>...</td>\n",
       "      <td>...</td>\n",
       "      <td>...</td>\n",
       "      <td>...</td>\n",
       "    </tr>\n",
       "    <tr>\n",
       "      <th>675</th>\n",
       "      <td>DISTRICT522</td>\n",
       "      <td>STATE29</td>\n",
       "      <td>37</td>\n",
       "      <td>876</td>\n",
       "      <td>137</td>\n",
       "      <td>5296396.0</td>\n",
       "      <td>78.05</td>\n",
       "      <td>0.461307</td>\n",
       "    </tr>\n",
       "    <tr>\n",
       "      <th>676</th>\n",
       "      <td>DISTRICT498</td>\n",
       "      <td>STATE29</td>\n",
       "      <td>64</td>\n",
       "      <td>1458</td>\n",
       "      <td>230</td>\n",
       "      <td>4042191.0</td>\n",
       "      <td>56.06</td>\n",
       "      <td>-1.717972</td>\n",
       "    </tr>\n",
       "    <tr>\n",
       "      <th>677</th>\n",
       "      <td>DISTRICT343</td>\n",
       "      <td>STATE29</td>\n",
       "      <td>59</td>\n",
       "      <td>1117</td>\n",
       "      <td>216</td>\n",
       "      <td>3483648.0</td>\n",
       "      <td>65.05</td>\n",
       "      <td>-0.827035</td>\n",
       "    </tr>\n",
       "    <tr>\n",
       "      <th>678</th>\n",
       "      <td>DISTRICT130</td>\n",
       "      <td>STATE29</td>\n",
       "      <td>51</td>\n",
       "      <td>993</td>\n",
       "      <td>211</td>\n",
       "      <td>3522644.0</td>\n",
       "      <td>66.16</td>\n",
       "      <td>-0.717030</td>\n",
       "    </tr>\n",
       "    <tr>\n",
       "      <th>679</th>\n",
       "      <td>DISTRICT341</td>\n",
       "      <td>STATE29</td>\n",
       "      <td>41</td>\n",
       "      <td>783</td>\n",
       "      <td>185</td>\n",
       "      <td>2798214.0</td>\n",
       "      <td>65.46</td>\n",
       "      <td>-0.786403</td>\n",
       "    </tr>\n",
       "  </tbody>\n",
       "</table>\n",
       "<p>634 rows × 8 columns</p>\n",
       "</div>"
      ]
     },
     "execution_count": 19,
     "metadata": {},
     "output_type": "execute_result"
    }
   ],
   "execution_count": 19
  },
  {
   "metadata": {
    "ExecuteTime": {
     "end_time": "2025-08-09T20:43:31.145902Z",
     "start_time": "2025-08-09T20:43:31.126849Z"
    }
   },
   "cell_type": "code",
   "source": [
    "#outliers\n",
    "education_districtwise[(education_districtwise['Z_SCORE'] > 3) | (education_districtwise['Z_SCORE'] < -3)]"
   ],
   "id": "14124cccc383def1",
   "outputs": [
    {
     "data": {
      "text/plain": [
       "        DISTNAME STATNAME  BLOCKS  VILLAGES  CLUSTERS  TOTPOPULAT  OVERALL_LI  \\\n",
       "434  DISTRICT461  STATE31       4       360        53    532791.0       42.67   \n",
       "494  DISTRICT429  STATE22       6       612        62    728677.0       37.22   \n",
       "\n",
       "      Z_SCORE  \n",
       "434 -3.044964  \n",
       "494 -3.585076  "
      ],
      "text/html": [
       "<div>\n",
       "<style scoped>\n",
       "    .dataframe tbody tr th:only-of-type {\n",
       "        vertical-align: middle;\n",
       "    }\n",
       "\n",
       "    .dataframe tbody tr th {\n",
       "        vertical-align: top;\n",
       "    }\n",
       "\n",
       "    .dataframe thead th {\n",
       "        text-align: right;\n",
       "    }\n",
       "</style>\n",
       "<table border=\"1\" class=\"dataframe\">\n",
       "  <thead>\n",
       "    <tr style=\"text-align: right;\">\n",
       "      <th></th>\n",
       "      <th>DISTNAME</th>\n",
       "      <th>STATNAME</th>\n",
       "      <th>BLOCKS</th>\n",
       "      <th>VILLAGES</th>\n",
       "      <th>CLUSTERS</th>\n",
       "      <th>TOTPOPULAT</th>\n",
       "      <th>OVERALL_LI</th>\n",
       "      <th>Z_SCORE</th>\n",
       "    </tr>\n",
       "  </thead>\n",
       "  <tbody>\n",
       "    <tr>\n",
       "      <th>434</th>\n",
       "      <td>DISTRICT461</td>\n",
       "      <td>STATE31</td>\n",
       "      <td>4</td>\n",
       "      <td>360</td>\n",
       "      <td>53</td>\n",
       "      <td>532791.0</td>\n",
       "      <td>42.67</td>\n",
       "      <td>-3.044964</td>\n",
       "    </tr>\n",
       "    <tr>\n",
       "      <th>494</th>\n",
       "      <td>DISTRICT429</td>\n",
       "      <td>STATE22</td>\n",
       "      <td>6</td>\n",
       "      <td>612</td>\n",
       "      <td>62</td>\n",
       "      <td>728677.0</td>\n",
       "      <td>37.22</td>\n",
       "      <td>-3.585076</td>\n",
       "    </tr>\n",
       "  </tbody>\n",
       "</table>\n",
       "</div>"
      ]
     },
     "execution_count": 21,
     "metadata": {},
     "output_type": "execute_result"
    }
   ],
   "execution_count": 21
  }
 ],
 "metadata": {},
 "nbformat": 4,
 "nbformat_minor": 5
}
